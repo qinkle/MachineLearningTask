{
 "cells": [
  {
   "cell_type": "code",
   "execution_count": 1,
   "metadata": {},
   "outputs": [],
   "source": [
    "from sklearn.datasets import make_classification\n",
    "from imblearn.over_sampling import SMOTE\n",
    "import warnings\n",
    "warnings.filterwarnings('ignore')\n",
    "import numpy as np\n",
    "import pandas as pd\n",
    "from matplotlib import pyplot as plt\n",
    "%matplotlib inline\n",
    "import imblearn\n",
    "import xgboost as xgb\n",
    "from sklearn.metrics import accuracy_score, precision_score, recall_score, roc_auc_score\n",
    "import time\n",
    "from sklearn.neighbors import KNeighborsClassifier"
   ]
  },
  {
   "cell_type": "markdown",
   "metadata": {},
   "source": [
    "Loading the training and test data."
   ]
  },
  {
   "cell_type": "code",
   "execution_count": 2,
   "metadata": {},
   "outputs": [],
   "source": [
    "train_df = pd.read_csv('train_small.csv', header=None)\n",
    "test_df = pd.read_csv('test_small.csv')"
   ]
  },
  {
   "cell_type": "markdown",
   "metadata": {},
   "source": [
    "Generating new features and adding them to the dataset. This will be a part of out model if it is included. it is therefor important to add the same features for each sample that we want to classify."
   ]
  },
  {
   "cell_type": "code",
   "execution_count": 3,
   "metadata": {},
   "outputs": [],
   "source": [
    "idx = features = train_df.columns.values[2:]\n",
    "train_df['sum'] = train_df[idx].sum(axis=1)  \n",
    "train_df['min'] = train_df[idx].min(axis=1)\n",
    "train_df['max'] = train_df[idx].max(axis=1)\n",
    "train_df['mean'] = train_df[idx].mean(axis=1)\n",
    "train_df['std'] = train_df[idx].std(axis=1)\n",
    "train_df['skew'] = train_df[idx].skew(axis=1)\n",
    "train_df['kurt'] = train_df[idx].kurtosis(axis=1)\n",
    "train_df['med'] = train_df[idx].median(axis=1)"
   ]
  },
  {
   "cell_type": "markdown",
   "metadata": {},
   "source": [
    "The data is split into training and test data. We are careful to split the set before we do imbalance correction."
   ]
  },
  {
   "cell_type": "code",
   "execution_count": 4,
   "metadata": {
    "scrolled": true
   },
   "outputs": [],
   "source": [
    "num_training_samples = 20000\n",
    "num_total_samples = 40000\n",
    "train_targets = train_df.iloc[1:num_training_samples,1]\n",
    "train_data = train_df.iloc[1:num_training_samples,2:]\n",
    "test_targets = train_df.iloc[num_training_samples:num_total_samples,1]\n",
    "test_data = train_df.iloc[num_training_samples:num_total_samples,2:]\n",
    "\n",
    "# Organise the data into numpy arrays so that it is handled correctly by imblearn\n",
    "nump_train_data = train_data.to_numpy()\n",
    "nump_train_data = nump_train_data.astype(float)\n",
    "nump_train_targets = train_targets.to_numpy()\n",
    "nump_train_targets = nump_train_targets.astype(int)\n",
    "\n",
    "nump_test_data = test_data.to_numpy()\n",
    "nump_test_data = nump_test_data.astype(float)\n",
    "nump_test_targets = test_targets.to_numpy()\n",
    "nump_test_targets = nump_test_targets.astype(int)"
   ]
  },
  {
   "cell_type": "markdown",
   "metadata": {},
   "source": [
    "Due to the imbalanced data set, we try balance it using SMOTE, random oversampling, and tomek links in combination with random undersampling."
   ]
  },
  {
   "cell_type": "code",
   "execution_count": 5,
   "metadata": {},
   "outputs": [
    {
     "data": {
      "image/png": "[encoded data removed]",
      "text/plain": [
       "<Figure size 432x288 with 1 Axes>"
      ]
     },
     "metadata": {
      "needs_background": "light"
     },
     "output_type": "display_data"
    },
    {
     "data": {
      "image/png": "[encoded data removed]",
      "text/plain": [
       "<Figure size 432x288 with 1 Axes>"
      ]
     },
     "metadata": {
      "needs_background": "light"
     },
     "output_type": "display_data"
    }
   ],
   "source": [
    "#Tomek links\n",
    "tl = imblearn.under_sampling.TomekLinks(return_indices=True, ratio='majority')\n",
    "X_tl, y_tl, id_tl = tl.fit_sample(nump_train_data, nump_train_targets)\n",
    "\n",
    "#Random undersampling\n",
    "rus = imblearn.under_sampling.RandomUnderSampler(sampling_strategy='auto',return_indices=True)\n",
    "X_rus, y_rus, id_rus = rus.fit_sample(X_tl, y_tl)\n",
    "\n",
    "#Random oversampling\n",
    "ros = imblearn.over_sampling.RandomOverSampler()\n",
    "X_ros, y_ros = ros.fit_sample(nump_train_data, nump_train_targets)\n",
    "\n",
    "#SMOTE\n",
    "smote = SMOTE(ratio='minority',  k_neighbors=40)\n",
    "X_sm, y_sm = smote.fit_sample(nump_train_data, nump_train_targets)\n"
   ]
  },
  {
   "cell_type": "markdown",
   "metadata": {},
   "source": [
    "# Comparison of balancing techniques\n",
    "\n",
    "We compare SMOTE, random oversampling, tomek links in combination with random undersampling, and the original dataset in both XGBoost and KNN."
   ]
  },
  {
   "cell_type": "code",
   "execution_count": 6,
   "metadata": {},
   "outputs": [],
   "source": [
    "#KNN\n",
    "\n",
    "def runKNN(X,y, technique):\n",
    "    start = time.time()\n",
    "    neigh = KNeighborsClassifier(n_neighbors=20)\n",
    "    neigh.fit(X, y)\n",
    "    preds = neigh.predict_proba(nump_test_data)\n",
    "    end = time.time()\n",
    "    print(\"\\nKNN run on \" + technique)\n",
    "    print(\"  Run time: %.4f seconds \" % (end - start))\n",
    "    roc = roc_auc_score(test_targets, preds[:,1])\n",
    "    print(\"  AUC: %.4f%% \" % (roc * 100))\n",
    "    "
   ]
  },
  {
   "cell_type": "code",
   "execution_count": 7,
   "metadata": {},
   "outputs": [],
   "source": [
    "param = {'max_depth':6, 'eta':1, 'silent':1, 'objective':'binary:logistic', 'eval_metric':'auc'}\n",
    "num_round = 1000\n",
    "\n",
    "def runXGB(X,y,technique): #Runs XGBoost on a given dataset and prints the results\n",
    "    dtrain = xgb.DMatrix(X, label=y)\n",
    "    dtest = xgb.DMatrix(nump_test_data, label=nump_test_targets)\n",
    "\n",
    "    start = time.time()\n",
    "\n",
    "    model = xgb.train(param, dtrain, num_round)\n",
    "\n",
    "    end = time.time()\n",
    "    print(\"\\nXGBoost run on \" + technique)\n",
    "    print(\"  Run time: %.4f seconds \" % (end - start))\n",
    "\n",
    "    preds = model.predict(dtest)\n",
    "    roc = roc_auc_score(test_targets, preds)\n",
    "    print(\"  AUC: %.4f%% \" % (roc * 100))\n",
    "    "
   ]
  },
  {
   "cell_type": "code",
   "execution_count": 8,
   "metadata": {},
   "outputs": [
    {
     "name": "stdout",
     "output_type": "stream",
     "text": [
      "\n",
      "KNN run on data set balanced using SMOTE.\n",
      "  Run time: 272.3793 seconds \n",
      "  AUC: 54.4918% \n",
      "\n",
      "KNN run on data set balanced using tomek, followed by random undersampling.\n",
      "  Run time: 32.2966 seconds \n",
      "  AUC: 60.9754% \n",
      "\n",
      "KNN run on data set balanced using random oversampling.\n",
      "  Run time: 283.2325 seconds \n",
      "  AUC: 55.0638% \n",
      "\n",
      "KNN run on data set without any balancing operations applied.\n",
      "  Run time: 151.0962 seconds \n",
      "  AUC: 56.4668% \n"
     ]
    }
   ],
   "source": [
    "runKNN(X_sm,y_sm,'data set balanced using SMOTE.')\n",
    "runKNN(X_rus,y_rus,'data set balanced using tomek, followed by random undersampling.')\n",
    "runKNN(X_ros,y_ros,'data set balanced using random oversampling.')\n",
    "runKNN(nump_train_data,nump_train_targets,'data set without any balancing operations applied.')"
   ]
  },
  {
   "cell_type": "code",
   "execution_count": 9,
   "metadata": {
    "scrolled": true
   },
   "outputs": [
    {
     "name": "stdout",
     "output_type": "stream",
     "text": [
      "\n",
      "XGBoost run on data set balanced using SMOTE.\n",
      "  Run time: 208.4323 seconds \n",
      "  AUC: 72.9676% \n",
      "\n",
      "XGBoost run on data set balanced using tomek, followed by random undersampling.\n",
      "  Run time: 13.3264 seconds \n",
      "  AUC: 80.4524% \n",
      "\n",
      "XGBoost run on data set balanced using random oversampling.\n",
      "  Run time: 159.5749 seconds \n",
      "  AUC: 81.0204% \n",
      "\n",
      "XGBoost run on data set without any balancing operations applied.\n",
      "  Run time: 93.3897 seconds \n",
      "  AUC: 81.0340% \n"
     ]
    }
   ],
   "source": [
    "runXGB(X_sm,y_sm,'data set balanced using SMOTE.')\n",
    "runXGB(X_rus,y_rus,'data set balanced using tomek, followed by random undersampling.')\n",
    "runXGB(X_ros,y_ros,'data set balanced using random oversampling.')\n",
    "runXGB(nump_train_data,nump_train_targets,'data set without any balancing operations applied.')"
   ]
  },
  {
   "cell_type": "markdown",
   "metadata": {},
   "source": [
    "XGBoost has the AUC as its evaluation metric and shouldn't be very affected by the imbalance in the dataset, this looks to be the case. The effect was small with the exception of SMOTE. The artifical samples generated by SMOTE appears to have worsened the data set and reduced the usefullness of the set.\n",
    "\n",
    "KNN is a poor predictor for this dataset, but was chosen because of its sensitivity to imbalanced data. We can see that the tomek improved the results from KNN, while the other techniques didn't affect it much."
   ]
  }
 ],
 "metadata": {
  "kernelspec": {
   "display_name": "Python 3",
   "language": "python",
   "name": "python3"
  },
  "language_info": {
   "codemirror_mode": {
    "name": "ipython",
    "version": 3
   },
   "file_extension": ".py",
   "mimetype": "text/x-python",
   "name": "python",
   "nbconvert_exporter": "python",
   "pygments_lexer": "ipython3",
   "version": "3.7.4"
  }
 },
 "nbformat": 4,
 "nbformat_minor": 2
}
