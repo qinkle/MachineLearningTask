{
 "cells": [
  {
   "cell_type": "code",
   "execution_count": 71,
   "metadata": {},
   "outputs": [],
   "source": [
    "from sklearn.datasets import make_classification\n",
    "from imblearn.over_sampling import SMOTE\n",
    "import warnings\n",
    "warnings.filterwarnings('ignore')\n",
    "import numpy as np\n",
    "import pandas as pd\n",
    "from matplotlib import pyplot as plt\n",
    "%matplotlib inline\n",
    "import imblearn\n",
    "import xgboost as xgb\n",
    "from sklearn.metrics import accuracy_score, precision_score, recall_score, roc_auc_score\n",
    "import time"
   ]
  },
  {
   "cell_type": "markdown",
   "metadata": {},
   "source": [
    "Loading the training and test data."
   ]
  },
  {
   "cell_type": "code",
   "execution_count": 72,
   "metadata": {},
   "outputs": [],
   "source": [
    "train_df = pd.read_csv('train_small.csv', header=None)\n",
    "test_df = pd.read_csv('test_small.csv')"
   ]
  },
  {
   "cell_type": "markdown",
   "metadata": {},
   "source": [
    "Generating new features and adding them to the dataset."
   ]
  },
  {
   "cell_type": "code",
   "execution_count": 73,
   "metadata": {},
   "outputs": [],
   "source": [
    "idx = features = train_df.columns.values[2:202]\n",
    "train_df['sum'] = train_df[idx].sum(axis=1)  \n",
    "train_df['min'] = train_df[idx].min(axis=1)\n",
    "train_df['max'] = train_df[idx].max(axis=1)\n",
    "train_df['mean'] = train_df[idx].mean(axis=1)\n",
    "train_df['std'] = train_df[idx].std(axis=1)\n",
    "train_df['skew'] = train_df[idx].skew(axis=1)\n",
    "train_df['kurt'] = train_df[idx].kurtosis(axis=1)\n",
    "train_df['med'] = train_df[idx].median(axis=1)"
   ]
  },
  {
   "cell_type": "markdown",
   "metadata": {},
   "source": [
    "The data is split into training and test data. We are careful to split the set before we do imbalance correction."
   ]
  },
  {
   "cell_type": "code",
   "execution_count": 79,
   "metadata": {},
   "outputs": [],
   "source": [
    "num_training_samples = 40000\n",
    "train_targets = train_df.iloc[:num_training_samples,1]\n",
    "train_data = train_df.iloc[:num_training_samples,2:]\n",
    "test_targets = train_df.iloc[num_training_samples:,1]\n",
    "test_data = train_df.iloc[num_training_samples:,2:]\n",
    "\n",
    "# Organise the data into numpy arrays so that it is handled correctly by imblearn\n",
    "nump_train_data = train_data.to_numpy()\n",
    "nump_train_data = nump_train_data.astype(float)\n",
    "nump_train_targets = train_targets.to_numpy()\n",
    "nump_train_targets = nump_train_targets.astype(int)\n",
    "\n",
    "nump_test_data = test_data.to_numpy()\n",
    "nump_test_data = nump_test_data.astype(float)\n",
    "nump_test_targets = test_targets.to_numpy()\n",
    "nump_test_targets = nump_test_targets.astype(int)"
   ]
  },
  {
   "cell_type": "markdown",
   "metadata": {},
   "source": [
    "Due to the imbalanced data set, we try balance it using SMOTE and random undersampling."
   ]
  },
  {
   "cell_type": "code",
   "execution_count": 85,
   "metadata": {},
   "outputs": [
    {
     "name": "stdout",
     "output_type": "stream",
     "text": [
      "Removed indexes: [ 9562 21148 19783 ... 39974 39987 39988]\n"
     ]
    },
    {
     "data": {
      "image/png": "[encoded data removed]",
      "text/plain": [
       "<Figure size 432x288 with 1 Axes>"
      ]
     },
     "metadata": {
      "needs_background": "light"
     },
     "output_type": "display_data"
    },
    {
     "data": {
      "image/png": "[encoded data removed]",
      "text/plain": [
       "<Figure size 432x288 with 1 Axes>"
      ]
     },
     "metadata": {
      "needs_background": "light"
     },
     "output_type": "display_data"
    }
   ],
   "source": [
    "rus = imblearn.under_sampling.RandomUnderSampler(sampling_strategy='auto',return_indices=True)\n",
    "X_rus, y_rus, id_rus = rus.fit_sample(nump_train_data, nump_train_targets)\n",
    "\n",
    "smote = SMOTE(ratio='minority',  k_neighbors=40)\n",
    "X_sm, y_sm = smote.fit_sample(nump_train_data, nump_train_targets)\n",
    "\n",
    "print('Removed indexes:', id_rus)\n",
    "\n",
    "plt.figure(1)\n",
    "df_rus = pd.DataFrame(X_rus)\n",
    "df_rus['train_target'] = y_rus\n",
    "df_rus.train_target.value_counts().plot(kind='bar', title='Count (train_target)');\n",
    "\n",
    "plt.figure(2)\n",
    "df_sm = pd.DataFrame(X_sm)\n",
    "df_sm['train_target'] = y_sm\n",
    "df_sm.train_target.value_counts().plot(kind='bar', title='Count (train_target)');"
   ]
  },
  {
   "cell_type": "markdown",
   "metadata": {},
   "source": [
    "We compare SMOTE, random undersampling and the unbalanced training set."
   ]
  },
  {
   "cell_type": "code",
   "execution_count": 86,
   "metadata": {},
   "outputs": [
    {
     "name": "stdout",
     "output_type": "stream",
     "text": [
      "473.6923899650574\n",
      "AUC: 77.8880% \n"
     ]
    }
   ],
   "source": [
    "dtrain = xgb.DMatrix(X_sm, label=y_sm)\n",
    "dtest = xgb.DMatrix(nump_test_data, label=nump_test_targets)\n",
    "\n",
    "start = time.time()\n",
    "\n",
    "param = {'max_depth':3, 'eta':1, 'silent':1, 'objective':'binary:logistic' }\n",
    "num_round = 1000\n",
    "model = xgb.train(param, dtrain, num_round)\n",
    "\n",
    "end = time.time()\n",
    "print(end - start)\n",
    "\n",
    "preds = model.predict(dtest)\n",
    "roc = roc_auc_score(test_targets, preds)\n",
    "print(\"AUC: %.4f%% \" % (roc * 100))"
   ]
  },
  {
   "cell_type": "code",
   "execution_count": 82,
   "metadata": {},
   "outputs": [
    {
     "name": "stdout",
     "output_type": "stream",
     "text": [
      "39.46702480316162\n",
      "AUC: 84.6634% \n"
     ]
    }
   ],
   "source": [
    "dtrain = xgb.DMatrix(X_rus, label=y_rus)\n",
    "dtest = xgb.DMatrix(nump_test_data, label=nump_test_targets)\n",
    "\n",
    "start = time.time()\n",
    "\n",
    "param = {'max_depth':3, 'eta':1, 'silent':1, 'objective':'binary:logistic' }\n",
    "num_round = 1000\n",
    "model = xgb.train(param, dtrain, num_round)\n",
    "\n",
    "end = time.time()\n",
    "print(end - start)\n",
    "\n",
    "preds = model.predict(dtest)\n",
    "roc = roc_auc_score(test_targets, preds)\n",
    "print(\"AUC: %.4f%% \" % (roc * 100))"
   ]
  },
  {
   "cell_type": "code",
   "execution_count": 83,
   "metadata": {},
   "outputs": [
    {
     "name": "stdout",
     "output_type": "stream",
     "text": [
      "242.732848405838\n",
      "AUC: 83.8846% \n"
     ]
    }
   ],
   "source": [
    "dtrain = xgb.DMatrix(train_data, label=train_targets)\n",
    "dtest = xgb.DMatrix(test_data, label=test_targets)\n",
    "\n",
    "start = time.time()\n",
    "\n",
    "param = {'max_depth':3, 'eta':1, 'silent':1, 'objective':'binary:logistic' }\n",
    "num_round = 1000\n",
    "model = xgb.train(param, dtrain, num_round)\n",
    "\n",
    "end = time.time()\n",
    "print(end - start)\n",
    "\n",
    "preds = model.predict(dtest)\n",
    "roc = roc_auc_score(test_targets, preds)\n",
    "print(\"AUC: %.4f%% \" % (roc * 100))"
   ]
  }
 ],
 "metadata": {
  "kernelspec": {
   "display_name": "Python 3",
   "language": "python",
   "name": "python3"
  },
  "language_info": {
   "codemirror_mode": {
    "name": "ipython",
    "version": 3
   },
   "file_extension": ".py",
   "mimetype": "text/x-python",
   "name": "python",
   "nbconvert_exporter": "python",
   "pygments_lexer": "ipython3",
   "version": "3.7.4"
  }
 },
 "nbformat": 4,
 "nbformat_minor": 2
}
